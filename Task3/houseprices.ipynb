{
 "cells": [
  {
   "cell_type": "code",
   "execution_count": 10,
   "metadata": {},
   "outputs": [
    {
     "name": "stdout",
     "output_type": "stream",
     "text": [
      "The autoreload extension is already loaded. To reload it, use:\n",
      "  %reload_ext autoreload\n"
     ]
    }
   ],
   "source": [
    "%load_ext autoreload\n",
    "%autoreload 2\n",
    "import numpy as np\n",
    "import pandas as pd\n",
    "import matplotlib.pyplot as plt\n",
    "import seaborn as sns\n",
    "from sklearn.ensemble import RandomForestRegressor\n",
    "from sklearn.impute import SimpleImputer\n",
    "from sklearn.model_selection import train_test_split\n",
    "from sklearn import metrics\n",
    "from sklearn.model_selection import GridSearchCV"
   ]
  },
  {
   "cell_type": "markdown",
   "metadata": {},
   "source": [
    "# Load Dataset"
   ]
  },
  {
   "cell_type": "code",
   "execution_count": 98,
   "metadata": {},
   "outputs": [],
   "source": [
    "train_df = pd.read_csv('data/train.csv')\n",
    "\n",
    "test_df = pd.read_csv('data/test.csv')\n"
   ]
  },
  {
   "cell_type": "code",
   "execution_count": 64,
   "metadata": {},
   "outputs": [],
   "source": [
    "def print_scores(y_test, y_pred):\n",
    "    print('Mean Absolute Error:', metrics.mean_absolute_error(y_test, y_pred))\n",
    "    print('Mean Squared Error:', metrics.mean_squared_error(y_test, y_pred))\n",
    "    print('Root Mean Squared Error:', np.sqrt(metrics.mean_squared_error(y_test, y_pred)))"
   ]
  },
  {
   "cell_type": "markdown",
   "metadata": {},
   "source": [
    "# Cleaning NaNs and Standardizing values"
   ]
  },
  {
   "cell_type": "code",
   "execution_count": 97,
   "metadata": {},
   "outputs": [],
   "source": [
    "from sklearn.preprocessing import MinMaxScaler\n",
    "def get_categorical_numerical(ddf):\n",
    "    df = ddf.copy()\n",
    "    g = df.columns.to_series().groupby(df.dtypes).groups\n",
    "    types = {k.name: v for k, v in g.items()}\n",
    "    categorical = types['object'].values\n",
    "    types.pop('object')\n",
    "    numerical = [val.values for key, val in types.items()]\n",
    "    numerical = [elem for sublist in numerical for elem in sublist]\n",
    "    return categorical, numerical\n",
    "\n",
    "def clean_df(ddf):\n",
    "    df = ddf.copy()\n",
    "    df = df.dropna(axis = 1, thresh= df.shape[0] // 4)\n",
    "    percent_missing = df.isnull().sum() * 100 / len(df)\n",
    "    missing_value_df = pd.DataFrame({'column_name': df.columns,\n",
    "                                     'percent_missing': percent_missing})\n",
    "    missing_value_df = missing_value_df[missing_value_df.percent_missing > 0]\n",
    "    df[missing_value_df.column_name.values].describe()\n",
    "    df.MasVnrArea.fillna(method='ffill', inplace=True)\n",
    "    df.MasVnrArea.fillna(method='bfill', inplace=True)\n",
    "    df.LotFrontage.fillna(df.LotFrontage.median(), inplace=True)\n",
    "    df.GarageYrBlt.fillna(df.GarageYrBlt.median(), inplace=True)\n",
    "    round(df[missing_value_df.column_name.values].isnull().sum() / len(df), 3)\n",
    "    df.fillna(method='ffill', inplace=True)\n",
    "    df.fillna(method='bfill', inplace=True)\n",
    "    categorical, numerical = get_categorical_numerical(df)\n",
    "    numeric_features = df.loc[:,numerical[numerical != 'SalePrice']]\n",
    "    numeric_features_standardized = (numeric_features - numeric_features.mean())/numeric_features.std()\n",
    "    df.update(numeric_features_standardized)\n",
    "    for column in categorical:\n",
    "        one_hot = pd.get_dummies(df[column])\n",
    "        df = df.drop(column,axis = 1)\n",
    "        df = df.join(one_hot, lsuffix='_left', rsuffix='_right')\n",
    "    return df"
   ]
  },
  {
   "cell_type": "code",
   "execution_count": 99,
   "metadata": {},
   "outputs": [
    {
     "name": "stderr",
     "output_type": "stream",
     "text": [
      "C:\\Users\\Max Dudar\\AppData\\Local\\Programs\\Python\\Python39\\lib\\site-packages\\pandas\\core\\frame.py:9130: FutureWarning: Passing 'suffixes' which cause duplicate columns {'Fa_left', 'TA_left', 'Gd_left'} in the result is deprecated and will raise a MergeError in a future version.\n",
      "  return merge(\n",
      "C:\\Users\\Max Dudar\\AppData\\Local\\Programs\\Python\\Python39\\lib\\site-packages\\pandas\\core\\frame.py:9130: FutureWarning: Passing 'suffixes' which cause duplicate columns {'Ex_left', 'Gd_left'} in the result is deprecated and will raise a MergeError in a future version.\n",
      "  return merge(\n",
      "C:\\Users\\Max Dudar\\AppData\\Local\\Programs\\Python\\Python39\\lib\\site-packages\\pandas\\core\\frame.py:9130: FutureWarning: Passing 'suffixes' which cause duplicate columns {'Fa_left', 'TA_left'} in the result is deprecated and will raise a MergeError in a future version.\n",
      "  return merge(\n",
      "C:\\Users\\Max Dudar\\AppData\\Local\\Programs\\Python\\Python39\\lib\\site-packages\\pandas\\core\\frame.py:9130: FutureWarning: Passing 'suffixes' which cause duplicate columns {'Ex_left', 'Po_left', 'Gd_left'} in the result is deprecated and will raise a MergeError in a future version.\n",
      "  return merge(\n",
      "C:\\Users\\Max Dudar\\AppData\\Local\\Programs\\Python\\Python39\\lib\\site-packages\\pandas\\core\\frame.py:9130: FutureWarning: Passing 'suffixes' which cause duplicate columns {'Gd_left', 'Po_left'} in the result is deprecated and will raise a MergeError in a future version.\n",
      "  return merge(\n",
      "C:\\Users\\Max Dudar\\AppData\\Local\\Programs\\Python\\Python39\\lib\\site-packages\\pandas\\core\\frame.py:9130: FutureWarning: Passing 'suffixes' which cause duplicate columns {'Stone_left'} in the result is deprecated and will raise a MergeError in a future version.\n",
      "  return merge(\n",
      "C:\\Users\\Max Dudar\\AppData\\Local\\Programs\\Python\\Python39\\lib\\site-packages\\pandas\\core\\frame.py:9130: FutureWarning: Passing 'suffixes' which cause duplicate columns {'Fa_left', 'TA_left', 'Gd_left'} in the result is deprecated and will raise a MergeError in a future version.\n",
      "  return merge(\n",
      "C:\\Users\\Max Dudar\\AppData\\Local\\Programs\\Python\\Python39\\lib\\site-packages\\pandas\\core\\frame.py:9130: FutureWarning: Passing 'suffixes' which cause duplicate columns {'Ex_left', 'Gd_left'} in the result is deprecated and will raise a MergeError in a future version.\n",
      "  return merge(\n",
      "C:\\Users\\Max Dudar\\AppData\\Local\\Programs\\Python\\Python39\\lib\\site-packages\\pandas\\core\\frame.py:9130: FutureWarning: Passing 'suffixes' which cause duplicate columns {'Fa_left', 'TA_left'} in the result is deprecated and will raise a MergeError in a future version.\n",
      "  return merge(\n",
      "C:\\Users\\Max Dudar\\AppData\\Local\\Programs\\Python\\Python39\\lib\\site-packages\\pandas\\core\\frame.py:9130: FutureWarning: Passing 'suffixes' which cause duplicate columns {'Ex_left', 'Po_left', 'Gd_left'} in the result is deprecated and will raise a MergeError in a future version.\n",
      "  return merge(\n",
      "C:\\Users\\Max Dudar\\AppData\\Local\\Programs\\Python\\Python39\\lib\\site-packages\\pandas\\core\\frame.py:9130: FutureWarning: Passing 'suffixes' which cause duplicate columns {'Ex_left', 'Gd_left', 'Po_left'} in the result is deprecated and will raise a MergeError in a future version.\n",
      "  return merge(\n"
     ]
    }
   ],
   "source": [
    "test_df = clean_df(test_df)\n",
    "train_df = clean_df(train_df)"
   ]
  },
  {
   "cell_type": "code",
   "execution_count": 94,
   "metadata": {},
   "outputs": [
    {
     "name": "stdout",
     "output_type": "stream",
     "text": [
      "Index(['Id', 'MSSubClass', 'LotFrontage', 'LotArea', 'OverallQual',\n",
      "       'OverallCond', 'YearBuilt', 'YearRemodAdd', 'MasVnrArea', 'BsmtFinSF1',\n",
      "       ...\n",
      "       'ConLw', 'New', 'Oth', 'WD', 'Abnorml', 'AdjLand', 'Alloca', 'Family',\n",
      "       'Normal', 'Partial'],\n",
      "      dtype='object', length=277)\n"
     ]
    }
   ],
   "source": [
    "X = train_df.copy()\n",
    "print(train_df.columns)\n",
    "X.drop('SalePrice', axis = 1)\n",
    "X.drop('Id', axis = 1)\n",
    "X = X.values\n",
    "y = train_df['SalePrice'].values    \n",
    "X_train, X_test, y_train, y_test = train_test_split(X, y, test_size=0.2, random_state=98987)"
   ]
  },
  {
   "cell_type": "markdown",
   "metadata": {},
   "source": [
    "# Sklearn"
   ]
  },
  {
   "cell_type": "markdown",
   "metadata": {},
   "source": [
    "GridSearch"
   ]
  },
  {
   "cell_type": "code",
   "execution_count": 36,
   "metadata": {},
   "outputs": [
    {
     "name": "stdout",
     "output_type": "stream",
     "text": [
      "best params: {'criterion': 'squared_error', 'max_depth': 1000, 'max_features': 'auto'}\n"
     ]
    }
   ],
   "source": [
    "parameters = {'criterion':('squared_error', 'absolute_error', 'poisson'), 'max_depth': (100,500, 1000, None),\n",
    "              'max_features':('auto', 'sqrt', 'log2')}\n",
    "\n",
    "model = RandomForestRegressor()\n",
    "rgr = GridSearchCV(model, parameters)\n",
    "rgr.fit(X_train[:300], y_train[:300])\n",
    "print(f\"best params: {rgr.best_params_}\")"
   ]
  },
  {
   "cell_type": "markdown",
   "metadata": {},
   "source": [
    "best params = default params"
   ]
  },
  {
   "cell_type": "markdown",
   "metadata": {},
   "source": [
    "Training"
   ]
  },
  {
   "cell_type": "code",
   "execution_count": 100,
   "metadata": {},
   "outputs": [
    {
     "name": "stdout",
     "output_type": "stream",
     "text": [
      "Mean Absolute Error: 0.003091636275975631\n",
      "Mean Squared Error: 0.00027628940567323403\n",
      "Root Mean Squared Error: 0.016621955530960672\n"
     ]
    }
   ],
   "source": [
    "rgr = RandomForestRegressor()\n",
    "rgr.fit(X_train, y_train)\n",
    "rgr.score(X_test, y_test)\n",
    "y_pred = rgr.predict(X_test)\n",
    "print_scores(y_test, y_pred)"
   ]
  },
  {
   "cell_type": "markdown",
   "metadata": {},
   "source": [
    "# XGBoost"
   ]
  },
  {
   "cell_type": "code",
   "execution_count": 134,
   "metadata": {},
   "outputs": [
    {
     "name": "stdout",
     "output_type": "stream",
     "text": [
      "best params: {'alpha': 0.5, 'colsample_bytree': 0.4, 'reg_lambda': 0.3, 'tree_method': 'gpu_hist'}\n"
     ]
    }
   ],
   "source": [
    "import xgboost as xgb\n",
    "parameters = {'tree_method':['gpu_hist'], 'colsample_bytree':(0.2, 0.4), 'alpha': (0.5, 0.9),\n",
    "              'reg_lambda':(0.3, 0.6, 0.9)}\n",
    "xgbr = xgb.XGBRegressor()\n",
    "rgr = GridSearchCV(xgbr, parameters)\n",
    "\n",
    "rgr.fit(X_train, y_train)\n",
    "print(f\"best params: {rgr.best_params_}\")"
   ]
  },
  {
   "cell_type": "markdown",
   "metadata": {},
   "source": [
    "max_depth = 4, n_estimators = 14400, subsample = 0.2, eta = 0.01, "
   ]
  },
  {
   "cell_type": "code",
   "execution_count": 155,
   "metadata": {},
   "outputs": [
    {
     "name": "stdout",
     "output_type": "stream",
     "text": [
      "Mean Absolute Error: 0.003632161234013532\n",
      "Mean Squared Error: 0.00013078424912496358\n",
      "Root Mean Squared Error: 0.011436094137639982\n"
     ]
    }
   ],
   "source": [
    "rgr = xgb.XGBRegressor(\n",
    "                 colsample_bytree=1.,\n",
    "                 eta=0.01,\n",
    "                 max_depth=4,\n",
    "                 min_child_weight=1.5,\n",
    "                 n_estimators=14400,                                                                  \n",
    "                 alpha=0.,\n",
    "                 reg_lambda=0.4,\n",
    "                 subsample=0.2)\n",
    "rgr.fit(X_train, y_train)\n",
    "y_pred = rgr.predict(X_test)\n",
    "print_scores(y_test, y_pred)"
   ]
  }
 ],
 "metadata": {
  "interpreter": {
   "hash": "97ae724bfa85b9b34df7982b8bb8c7216f435b92902d749e4263f71162bea840"
  },
  "kernelspec": {
   "display_name": "Python 3.8.5 64-bit ('base': conda)",
   "language": "python",
   "name": "python3"
  },
  "language_info": {
   "codemirror_mode": {
    "name": "ipython",
    "version": 3
   },
   "file_extension": ".py",
   "mimetype": "text/x-python",
   "name": "python",
   "nbconvert_exporter": "python",
   "pygments_lexer": "ipython3",
   "version": "3.9.2"
  },
  "orig_nbformat": 4
 },
 "nbformat": 4,
 "nbformat_minor": 2
}
