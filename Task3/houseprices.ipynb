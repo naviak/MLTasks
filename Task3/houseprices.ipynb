{
 "cells": [
  {
   "cell_type": "code",
   "execution_count": 123,
   "metadata": {},
   "outputs": [
    {
     "name": "stdout",
     "output_type": "stream",
     "text": [
      "The autoreload extension is already loaded. To reload it, use:\n",
      "  %reload_ext autoreload\n"
     ]
    }
   ],
   "source": [
    "%load_ext autoreload\n",
    "%autoreload 2\n",
    "import numpy as np\n",
    "import pandas as pd\n",
    "import matplotlib.pyplot as plt\n",
    "import seaborn as sns\n",
    "from sklearn.ensemble import RandomForestRegressor\n",
    "from sklearn.impute import SimpleImputer\n",
    "from sklearn.model_selection import train_test_split\n",
    "from sklearn import metrics"
   ]
  },
  {
   "cell_type": "markdown",
   "metadata": {},
   "source": [
    "# Load Dataset"
   ]
  },
  {
   "cell_type": "code",
   "execution_count": 134,
   "metadata": {},
   "outputs": [],
   "source": [
    "train_df = pd.read_csv('data/train.csv')\n",
    "\n",
    "test_df = pd.read_csv('data/test.csv')\n"
   ]
  },
  {
   "cell_type": "code",
   "execution_count": 139,
   "metadata": {},
   "outputs": [],
   "source": [
    "from sklearn.preprocessing import MinMaxScaler\n",
    "def get_categorical_numerical(ddf):\n",
    "    df = ddf.copy()\n",
    "    g = df.columns.to_series().groupby(df.dtypes).groups\n",
    "    types = {k.name: v for k, v in g.items()}\n",
    "    categorical = types['object'].values\n",
    "    types.pop('object')\n",
    "    numerical = [val.values for key, val in types.items()]\n",
    "    numerical = [elem for sublist in numerical for elem in sublist]\n",
    "    return categorical, numerical\n",
    "\n",
    "def clean_df(ddf):\n",
    "    df = ddf.copy()\n",
    "    df = df.dropna(axis = 1, thresh= df.shape[0] // 4)\n",
    "    percent_missing = df.isnull().sum() * 100 / len(df)\n",
    "    missing_value_df = pd.DataFrame({'column_name': df.columns,\n",
    "                                     'percent_missing': percent_missing})\n",
    "    missing_value_df = missing_value_df[missing_value_df.percent_missing > 0]\n",
    "    df[missing_value_df.column_name.values].describe()\n",
    "    df.MasVnrArea.fillna(method='ffill', inplace=True)\n",
    "    df.MasVnrArea.fillna(method='bfill', inplace=True)\n",
    "    df.LotFrontage.fillna(df.LotFrontage.median(), inplace=True)\n",
    "    df.GarageYrBlt.fillna(df.GarageYrBlt.median(), inplace=True)\n",
    "    round(df[missing_value_df.column_name.values].isnull().sum() / len(df), 3)\n",
    "    df.fillna(method='ffill', inplace=True)\n",
    "    df.fillna(method='bfill', inplace=True)\n",
    "    categorical, numerical = get_categorical_numerical(df)\n",
    "    numeric_features = df.loc[:,numerical[numerical != 'SalePrice']]\n",
    "    numeric_features_standardized = (numeric_features - numeric_features.mean())/numeric_features.std()\n",
    "    df.update(numeric_features_standardized)\n",
    "    for column in categorical:\n",
    "        one_hot = pd.get_dummies(df[column])\n",
    "        df = df.drop(column,axis = 1)\n",
    "        df = df.join(one_hot, lsuffix='_left', rsuffix='_right')\n",
    "    return df"
   ]
  },
  {
   "cell_type": "code",
   "execution_count": 135,
   "metadata": {},
   "outputs": [
    {
     "data": {
      "text/plain": [
       "(1460, 277)"
      ]
     },
     "execution_count": 135,
     "metadata": {},
     "output_type": "execute_result"
    }
   ],
   "source": [
    "test_df = clean_df(test_df)\n",
    "train_df = clean_df(train_df)\n",
    "train_df.shape"
   ]
  },
  {
   "cell_type": "markdown",
   "metadata": {},
   "source": [
    "# Training"
   ]
  },
  {
   "cell_type": "code",
   "execution_count": 138,
   "metadata": {},
   "outputs": [
    {
     "name": "stdout",
     "output_type": "stream",
     "text": [
      "Mean Absolute Error: 0.005435126478408534\n",
      "Mean Squared Error: 0.0006301344258073763\n",
      "Root Mean Squared Error: 0.025102478479372834\n"
     ]
    },
    {
     "data": {
      "image/png": "[encoded data removed]",
      "text/plain": [
       "<Figure size 360x360 with 1 Axes>"
      ]
     },
     "metadata": {
      "needs_background": "light"
     },
     "output_type": "display_data"
    },
    {
     "data": {
      "image/png": "[encoded data removed]",
      "text/plain": [
       "<Figure size 360x360 with 1 Axes>"
      ]
     },
     "metadata": {
      "needs_background": "light"
     },
     "output_type": "display_data"
    }
   ],
   "source": [
    "X = train_df.copy()\n",
    "X.drop('SalePrice', axis = 1)\n",
    "X.drop('Id', axis = 1)\n",
    "X = X.values\n",
    "y = train_df['SalePrice'].values\n",
    "sns.displot(y)\n",
    "y = np.log1p(y)\n",
    "sns.displot(y)      \n",
    "X_train, X_test, y_train, y_test = train_test_split(X, y, test_size=0.2, random_state=42)\n",
    "clf = RandomForestRegressor()\n",
    "clf.fit(X_train, y_train)\n",
    "clf.score(X_test, y_test)\n",
    "y_pred = clf.predict(X_test)\n",
    "print('Mean Absolute Error:', metrics.mean_absolute_error(y_test, y_pred))\n",
    "print('Mean Squared Error:', metrics.mean_squared_error(y_test, y_pred))\n",
    "print('Root Mean Squared Error:', np.sqrt(metrics.mean_squared_error(y_test, y_pred)))\n"
   ]
  }
 ],
 "metadata": {
  "interpreter": {
   "hash": "97ae724bfa85b9b34df7982b8bb8c7216f435b92902d749e4263f71162bea840"
  },
  "kernelspec": {
   "display_name": "Python 3.8.5 64-bit ('base': conda)",
   "language": "python",
   "name": "python3"
  },
  "language_info": {
   "codemirror_mode": {
    "name": "ipython",
    "version": 3
   },
   "file_extension": ".py",
   "mimetype": "text/x-python",
   "name": "python",
   "nbconvert_exporter": "python",
   "pygments_lexer": "ipython3",
   "version": "3.8.5"
  },
  "orig_nbformat": 4
 },
 "nbformat": 4,
 "nbformat_minor": 2
}
